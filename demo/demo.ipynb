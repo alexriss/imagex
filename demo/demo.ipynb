{
 "cells": [
  {
   "cell_type": "code",
   "execution_count": null,
   "metadata": {},
   "outputs": [],
   "source": [
    "%matplotlib notebook\n",
    "import matplotlib\n",
    "import matplotlib.pylab as plt\n",
    "import scipy.ndimage.filters\n",
    "import imagex\n",
    "import ipywidgets\n",
    "import IPython.display\n"
   ]
  },
  {
   "cell_type": "code",
   "execution_count": null,
   "metadata": {},
   "outputs": [],
   "source": [
    "# load image\n",
    "im = imagex.ImageData()\n",
    "im.load_image(\"Image_445.sxm\")\n",
    "\n",
    "# display available channels\n",
    "im.channel_names"
   ]
  },
  {
   "cell_type": "code",
   "execution_count": null,
   "metadata": {},
   "outputs": [],
   "source": [
    "#plot frequency shift image\n",
    "im.plot_image(\"Frequency_Shift\");\n"
   ]
  },
  {
   "cell_type": "code",
   "execution_count": null,
   "metadata": {},
   "outputs": [],
   "source": [
    "# get 2D image data\n",
    "data_df = im.get_channel(\"Frequency_Shift\")['data']\n",
    "unit_df = im.get_channel(\"Frequency_Shift_fwd\")['data_header']['unit']\n",
    "data_current = im.get_data(\"Current\")  # just an alternative way\n",
    "data_current *= 1e12  # use pA\n",
    "\n",
    "#plot raw data\n",
    "fig, axs = plt.subplots(1,2)\n",
    "im.plot_data(data_df, name=\"df\", unit=\"Hz\", axes=axs[0], no_labels=True);\n",
    "im.plot_data(data_current, name=\"I\", unit=\"pA\", axes=axs[1], no_labels=True);\n",
    "fig.tight_layout()"
   ]
  },
  {
   "cell_type": "code",
   "execution_count": null,
   "metadata": {},
   "outputs": [],
   "source": [
    "# adjust color scale of the images interactively\n",
    "imagex.images_colorscale_sliders(axs)\n"
   ]
  },
  {
   "cell_type": "code",
   "execution_count": null,
   "metadata": {
    "scrolled": false
   },
   "outputs": [],
   "source": [
    "# interactive gaussian laplace filter\n",
    "fig2, ax2 = plt.subplots(1,1, figsize=(3,4.5))\n",
    "\n",
    "@ipywidgets.interact(laplace=True, sigma=(0.0,0.1,0.001))\n",
    "def plot_images(laplace=True, sigma=0.03):\n",
    "    data =  data_df[:-30,:]\n",
    "    if laplace:\n",
    "        if sigma>0:\n",
    "            gauss_sigma_px = im.nm_to_pixels(sigma)  # gaussian sigma is provided in rel units (nm), then converted into pixel-units\n",
    "            data = -scipy.ndimage.filters.gaussian_laplace(data, sigma=gauss_sigma_px, mode='nearest')\n",
    "    im.plot_data(data, axes=ax2, extra_output=False, no_labels=True, pixel_units=True);  # as we cut some of the data, we need to use pixel units now\n",
    "\n",
    "fig2.tight_layout()"
   ]
  },
  {
   "cell_type": "code",
   "execution_count": null,
   "metadata": {},
   "outputs": [],
   "source": [
    "imagex.save_figure(fig, \"example_figure.png\", dpi=100)  # save whole figure\n",
    "imagex.save_axes(ax2, \"example_image.png\", dpi=100)  # save only image on the axes\n"
   ]
  },
  {
   "cell_type": "code",
   "execution_count": null,
   "metadata": {},
   "outputs": [],
   "source": []
  }
 ],
 "metadata": {
  "kernelspec": {
   "display_name": "Python 3",
   "language": "python",
   "name": "python3"
  },
  "language_info": {
   "codemirror_mode": {
    "name": "ipython",
    "version": 3
   },
   "file_extension": ".py",
   "mimetype": "text/x-python",
   "name": "python",
   "nbconvert_exporter": "python",
   "pygments_lexer": "ipython3",
   "version": "3.6.5"
  }
 },
 "nbformat": 4,
 "nbformat_minor": 2
}
